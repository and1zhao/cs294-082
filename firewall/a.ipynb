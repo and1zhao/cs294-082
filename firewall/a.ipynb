{
 "cells": [
  {
   "cell_type": "code",
   "execution_count": 21,
   "metadata": {},
   "outputs": [],
   "source": [
    "import pandas as pd\n",
    "import numpy as np\n",
    "import matplotlib.pyplot as plt\n",
    "from sklearn.neural_network import MLPClassifier\n",
    "from sklearn.model_selection import train_test_split\n"
   ]
  },
  {
   "cell_type": "code",
   "execution_count": 22,
   "metadata": {},
   "outputs": [
    {
     "data": {
      "image/png": "[encoded data removed]",
      "text/plain": [
       "<Figure size 432x288 with 1 Axes>"
      ]
     },
     "metadata": {
      "needs_background": "light"
     },
     "output_type": "display_data"
    }
   ],
   "source": [
    "plt.plot([5, 10, 20, 40, 80, 100], np.asarray([12, 13, 13, 14, 14, 15]) * 11)\n",
    "plt.title(\"Capacity Progression\")\n",
    "plt.xlabel(\"% of Training Data\")\n",
    "plt.ylabel(\"MEC (bits)\");\n"
   ]
  },
  {
   "cell_type": "code",
   "execution_count": 4,
   "metadata": {},
   "outputs": [
    {
     "data": {
      "text/html": [
       "<div>\n",
       "<style scoped>\n",
       "    .dataframe tbody tr th:only-of-type {\n",
       "        vertical-align: middle;\n",
       "    }\n",
       "\n",
       "    .dataframe tbody tr th {\n",
       "        vertical-align: top;\n",
       "    }\n",
       "\n",
       "    .dataframe thead th {\n",
       "        text-align: right;\n",
       "    }\n",
       "</style>\n",
       "<table border=\"1\" class=\"dataframe\">\n",
       "  <thead>\n",
       "    <tr style=\"text-align: right;\">\n",
       "      <th></th>\n",
       "      <th>Source Port</th>\n",
       "      <th>Destination Port</th>\n",
       "      <th>NAT Source Port</th>\n",
       "      <th>NAT Destination Port</th>\n",
       "      <th>Action</th>\n",
       "      <th>Bytes</th>\n",
       "      <th>Bytes Sent</th>\n",
       "      <th>Bytes Received</th>\n",
       "      <th>Packets</th>\n",
       "      <th>Elapsed Time (sec)</th>\n",
       "      <th>pkts_sent</th>\n",
       "      <th>pkts_received</th>\n",
       "    </tr>\n",
       "  </thead>\n",
       "  <tbody>\n",
       "    <tr>\n",
       "      <th>0</th>\n",
       "      <td>57222</td>\n",
       "      <td>53</td>\n",
       "      <td>54587</td>\n",
       "      <td>53</td>\n",
       "      <td>allow</td>\n",
       "      <td>177</td>\n",
       "      <td>94</td>\n",
       "      <td>83</td>\n",
       "      <td>2</td>\n",
       "      <td>30</td>\n",
       "      <td>1</td>\n",
       "      <td>1</td>\n",
       "    </tr>\n",
       "    <tr>\n",
       "      <th>1</th>\n",
       "      <td>56258</td>\n",
       "      <td>3389</td>\n",
       "      <td>56258</td>\n",
       "      <td>3389</td>\n",
       "      <td>allow</td>\n",
       "      <td>4768</td>\n",
       "      <td>1600</td>\n",
       "      <td>3168</td>\n",
       "      <td>19</td>\n",
       "      <td>17</td>\n",
       "      <td>10</td>\n",
       "      <td>9</td>\n",
       "    </tr>\n",
       "    <tr>\n",
       "      <th>2</th>\n",
       "      <td>6881</td>\n",
       "      <td>50321</td>\n",
       "      <td>43265</td>\n",
       "      <td>50321</td>\n",
       "      <td>allow</td>\n",
       "      <td>238</td>\n",
       "      <td>118</td>\n",
       "      <td>120</td>\n",
       "      <td>2</td>\n",
       "      <td>1199</td>\n",
       "      <td>1</td>\n",
       "      <td>1</td>\n",
       "    </tr>\n",
       "    <tr>\n",
       "      <th>3</th>\n",
       "      <td>50553</td>\n",
       "      <td>3389</td>\n",
       "      <td>50553</td>\n",
       "      <td>3389</td>\n",
       "      <td>allow</td>\n",
       "      <td>3327</td>\n",
       "      <td>1438</td>\n",
       "      <td>1889</td>\n",
       "      <td>15</td>\n",
       "      <td>17</td>\n",
       "      <td>8</td>\n",
       "      <td>7</td>\n",
       "    </tr>\n",
       "    <tr>\n",
       "      <th>4</th>\n",
       "      <td>50002</td>\n",
       "      <td>443</td>\n",
       "      <td>45848</td>\n",
       "      <td>443</td>\n",
       "      <td>allow</td>\n",
       "      <td>25358</td>\n",
       "      <td>6778</td>\n",
       "      <td>18580</td>\n",
       "      <td>31</td>\n",
       "      <td>16</td>\n",
       "      <td>13</td>\n",
       "      <td>18</td>\n",
       "    </tr>\n",
       "  </tbody>\n",
       "</table>\n",
       "</div>"
      ],
      "text/plain": [
       "   Source Port  Destination Port  NAT Source Port  NAT Destination Port  \\\n",
       "0        57222                53            54587                    53   \n",
       "1        56258              3389            56258                  3389   \n",
       "2         6881             50321            43265                 50321   \n",
       "3        50553              3389            50553                  3389   \n",
       "4        50002               443            45848                   443   \n",
       "\n",
       "  Action  Bytes  Bytes Sent  Bytes Received  Packets  Elapsed Time (sec)  \\\n",
       "0  allow    177          94              83        2                  30   \n",
       "1  allow   4768        1600            3168       19                  17   \n",
       "2  allow    238         118             120        2                1199   \n",
       "3  allow   3327        1438            1889       15                  17   \n",
       "4  allow  25358        6778           18580       31                  16   \n",
       "\n",
       "   pkts_sent  pkts_received  \n",
       "0          1              1  \n",
       "1         10              9  \n",
       "2          1              1  \n",
       "3          8              7  \n",
       "4         13             18  "
      ]
     },
     "execution_count": 4,
     "metadata": {},
     "output_type": "execute_result"
    }
   ],
   "source": [
    "data = pd.read_csv('log2.csv')\n",
    "data.head()\n"
   ]
  },
  {
   "cell_type": "code",
   "execution_count": 23,
   "metadata": {},
   "outputs": [
    {
     "name": "stdout",
     "output_type": "stream",
     "text": [
      "Now training + evaluating on hidden size 1\n",
      "Train Accuracy: 1 0.5742870767763472\n",
      "Validation Accuracy: 1 0.5774013885709925\n",
      "Now training + evaluating on hidden size 2\n",
      "Train Accuracy: 2 0.573657606103958\n",
      "Validation Accuracy: 2 0.5772487983520256\n",
      "Now training + evaluating on hidden size 3\n",
      "Train Accuracy: 3 0.7913400095374344\n",
      "Validation Accuracy: 3 0.7901884489204242\n",
      "Now training + evaluating on hidden size 4\n",
      "Train Accuracy: 4 0.9821077730090606\n",
      "Validation Accuracy: 4 0.9830624856946669\n",
      "Now training + evaluating on hidden size 5\n",
      "Train Accuracy: 5 0.7945255126371006\n",
      "Validation Accuracy: 5 0.7994964522774091\n",
      "Now training + evaluating on hidden size 6\n",
      "Train Accuracy: 6 0.9792465426800191\n",
      "Validation Accuracy: 6 0.9809262226291294\n",
      "Now training + evaluating on hidden size 7\n",
      "Train Accuracy: 7 0.9977491654744873\n",
      "Validation Accuracy: 7 0.9977111467154955\n",
      "Now training + evaluating on hidden size 8\n",
      "Train Accuracy: 8 0.9801049117787315\n",
      "Validation Accuracy: 8 0.9816128786144808\n",
      "Now training + evaluating on hidden size 9\n",
      "Train Accuracy: 9 0.7920839294229852\n",
      "Validation Accuracy: 9 0.7908751049057755\n",
      "Now training + evaluating on hidden size 10\n",
      "Train Accuracy: 10 0.9808869814020028\n",
      "Validation Accuracy: 10 0.982604715037766\n",
      "Now training + evaluating on hidden size 11\n",
      "Train Accuracy: 11 0.9443586075345732\n",
      "Validation Accuracy: 11 0.9449149309529259\n",
      "Now training + evaluating on hidden size 12\n",
      "Train Accuracy: 12 0.9849117787315212\n",
      "Validation Accuracy: 12 0.985122453650721\n",
      "Now training + evaluating on hidden size 13\n",
      "Train Accuracy: 13 0.9811921793037672\n",
      "Validation Accuracy: 13 0.9819943541618982\n",
      "Now training + evaluating on hidden size 14\n",
      "Train Accuracy: 14 0.974687649022413\n",
      "Validation Accuracy: 14 0.9755855649652857\n",
      "Now training + evaluating on hidden size 15\n",
      "Train Accuracy: 15 0.9834811635670004\n",
      "Validation Accuracy: 15 0.9842832074464026\n"
     ]
    }
   ],
   "source": [
    "X = data.loc[:, data.columns != 'Action']\n",
    "y = data['Action']\n",
    "X_train, X_val, y_train, y_val = train_test_split(X, y, test_size=0.2)\n",
    "train_accuracy_list = []\n",
    "val_accuracy_list = []\n",
    "\n",
    "for hidden_size in range(1, 16):\n",
    "  print(\"Now training + evaluating on hidden size\", hidden_size)\n",
    "  clf = MLPClassifier(hidden_layer_sizes=hidden_size, max_iter=500)\n",
    "  clf.fit(X_train, y_train)\n",
    "  print('Train Accuracy:', hidden_size,\n",
    "        (clf.predict(X_train) == y_train).sum() / len(y_train))\n",
    "  train_accuracy_list.append(\n",
    "      (clf.predict(X_train) == y_train).sum() / len(y_train))\n",
    "  val_accuracy_list.append((clf.predict(X_val) == y_val).sum() / len(y_val))\n",
    "  print('Validation Accuracy:', hidden_size,\n",
    "        (clf.predict(X_val) == y_val).sum() / len(y_val))\n"
   ]
  },
  {
   "cell_type": "code",
   "execution_count": 25,
   "metadata": {},
   "outputs": [
    {
     "data": {
      "image/png": "[encoded data removed]",
      "text/plain": [
       "<Figure size 432x288 with 1 Axes>"
      ]
     },
     "metadata": {
      "needs_background": "light"
     },
     "output_type": "display_data"
    }
   ],
   "source": [
    "plt.plot(list(range(13, 13*16, 13)), train_accuracy_list, label=\"Train\")\n",
    "plt.plot(list(range(13, 13*16, 13)), val_accuracy_list, label=\"Valid\")\n",
    "plt.axvline(x=6*13, color='black', label=\"N_Approx\")\n",
    "plt.legend()\n",
    "plt.xlabel(\"Model MEC (bits)\")\n",
    "plt.ylabel(\"Accuracy\")\n",
    "plt.title(\"Training for Generalization\");\n"
   ]
  },
  {
   "cell_type": "code",
   "execution_count": 30,
   "metadata": {},
   "outputs": [
    {
     "name": "stdout",
     "output_type": "stream",
     "text": [
      "The training accuracy after choosing the hidden layer size is 0.9847210300429184\n",
      "The generalization after choosing the hidden layer size is 661.8461538461538\n"
     ]
    }
   ],
   "source": [
    "clf = MLPClassifier(hidden_layer_sizes=6, max_iter=500)\n",
    "clf.fit(X_train, y_train)\n",
    "num_correct = (clf.predict(X_train) == y_train).sum()\n",
    "acc = num_correct / len(y_train)\n",
    "print(\"The training accuracy after choosing the hidden layer size is\", acc)\n",
    "print(\"The generalization after choosing the hidden layer size is\",\n",
    "      num_correct / (13*6))\n"
   ]
  },
  {
   "cell_type": "code",
   "execution_count": 31,
   "metadata": {},
   "outputs": [
    {
     "name": "stdout",
     "output_type": "stream",
     "text": [
      "The test accuracy after choosing the hidden layer size is 0.9859616998550393\n",
      "The generalization after choosing the hidden layer size is 165.67948717948718\n"
     ]
    }
   ],
   "source": [
    "clf = MLPClassifier(hidden_layer_sizes=6, max_iter=500)\n",
    "clf.fit(X_train, y_train)\n",
    "\n",
    "num_correct = (clf.predict(X_val) == y_val).sum()\n",
    "acc = num_correct / len(y_val)\n",
    "print(\"The test accuracy after choosing the hidden layer size is \" + str(acc))\n",
    "print(\"The generalization after choosing the hidden layer size is\",\n",
    "      num_correct / (13*6))\n"
   ]
  },
  {
   "cell_type": "code",
   "execution_count": null,
   "metadata": {},
   "outputs": [],
   "source": []
  }
 ],
 "metadata": {
  "interpreter": {
   "hash": "7812ea015bdcee6f23a998adcdd2ef97c151c0c241b7b7070987d9313e41299d"
  },
  "kernelspec": {
   "display_name": "Python 3.9.4 64-bit",
   "language": "python",
   "name": "python3"
  },
  "language_info": {
   "codemirror_mode": {
    "name": "ipython",
    "version": 3
   },
   "file_extension": ".py",
   "mimetype": "text/x-python",
   "name": "python",
   "nbconvert_exporter": "python",
   "pygments_lexer": "ipython3",
   "version": "3.9.4"
  },
  "orig_nbformat": 4
 },
 "nbformat": 4,
 "nbformat_minor": 2
}
